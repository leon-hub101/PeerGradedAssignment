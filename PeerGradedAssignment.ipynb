{
  "metadata": {
    "language_info": {
      "codemirror_mode": {
        "name": "python",
        "version": 3
      },
      "file_extension": ".py",
      "mimetype": "text/x-python",
      "name": "python",
      "nbconvert_exporter": "python",
      "pygments_lexer": "ipython3",
      "version": "3.8"
    },
    "kernelspec": {
      "name": "python",
      "display_name": "Pyolite",
      "language": "python"
    }
  },
  "nbformat_minor": 4,
  "nbformat": 4,
  "cells": [
    {
      "cell_type": "markdown",
      "source": "# H1 My Jupyter Notebook on IBM Watson Studio",
      "metadata": {}
    },
    {
      "cell_type": "markdown",
      "source": "**LEON PRETORIUS**\n\nData Scientist",
      "metadata": {}
    },
    {
      "cell_type": "markdown",
      "source": "_I am interested in data science because it offer me tools to add value to the clients I serve_",
      "metadata": {}
    },
    {
      "cell_type": "markdown",
      "source": "### My code is designed to tell me how many characters I have left in a string. ",
      "metadata": {}
    },
    {
      "cell_type": "code",
      "source": "(140 - len(\"I am coding\"))",
      "metadata": {
        "trusted": true
      },
      "execution_count": 6,
      "outputs": [
        {
          "execution_count": 6,
          "output_type": "execute_result",
          "data": {
            "text/plain": "129"
          },
          "metadata": {}
        }
      ]
    },
    {
      "cell_type": "markdown",
      "source": "*  Bulleted item\n\n- Bulleted item\n\n- Bulleted item\n \n 1 Numbered list\n \n 2 Numbered list\n \n 3 Numbered list\n \n (http://github.com/adam-p/markdown-here/wiki/Markdown-Cheatsheet#emphasis) #This link was my best friend",
      "metadata": {}
    },
    {
      "cell_type": "code",
      "source": "",
      "metadata": {},
      "execution_count": null,
      "outputs": []
    }
  ]
}