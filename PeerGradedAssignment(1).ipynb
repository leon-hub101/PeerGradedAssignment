{
  "cells": [
    {
      "cell_type": "markdown",
      "metadata": {},
      "source": [
        "# My Jupyter Notebook on IBM Watson Studio "
      ]
    },
    {
      "cell_type": "markdown",
      "metadata": {},
      "source": [
        "**LEON PRETORIUS**\n",
        "\n",
        "Data Scientist"
      ]
    },
    {
      "cell_type": "markdown",
      "metadata": {},
      "source": [
        "_I am interested in data science because it offer me tools to add value to the clients I serve_"
      ]
    },
    {
      "cell_type": "markdown",
      "metadata": {},
      "source": [
        "### My code is designed to tell me how many characters I have left in a string. "
      ]
    },
    {
      "cell_type": "code",
      "execution_count": 6,
      "metadata": {
        "trusted": true
      },
      "outputs": [
        {
          "data": {
            "text/plain": [
              "129"
            ]
          },
          "execution_count": 6,
          "metadata": {},
          "output_type": "execute_result"
        }
      ],
      "source": [
        "(140 - len(\"I am coding\"))"
      ]
    },
    {
      "cell_type": "markdown",
      "metadata": {},
      "source": [
        "*  Bulleted item\n",
        "\n",
        "- Bulleted item\n",
        "\n",
        "- Bulleted item\n",
        " \n",
        " 1 Numbered list\n",
        " \n",
        " 2 Numbered list\n",
        " \n",
        " 3 Numbered list\n",
        " \n",
        " (http://github.com/adam-p/markdown-here/wiki/Markdown-Cheatsheet#emphasis) #This link was my best friend"
      ]
    },
    {
      "cell_type": "code",
      "execution_count": null,
      "metadata": {},
      "outputs": [],
      "source": []
    }
  ],
  "metadata": {
    "kernelspec": {
      "display_name": "Pyolite",
      "language": "python",
      "name": "python"
    },
    "language_info": {
      "codemirror_mode": {
        "name": "python",
        "version": 3
      },
      "file_extension": ".py",
      "mimetype": "text/x-python",
      "name": "python",
      "nbconvert_exporter": "python",
      "pygments_lexer": "ipython3",
      "version": "3.8"
    }
  },
  "nbformat": 4,
  "nbformat_minor": 4
}
